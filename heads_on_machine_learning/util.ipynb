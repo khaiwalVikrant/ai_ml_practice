{
 "cells": [
  {
   "cell_type": "code",
   "execution_count": 1,
   "id": "11972956-feb3-4a7f-a7f6-ecf8e480ddad",
   "metadata": {},
   "outputs": [],
   "source": [
    "def basic_plot_structure(plt):\n",
    "    plt.rc('font', size=12)\n",
    "    plt.rc('axes', labelsize=14, titlesize=14)\n",
    "    plt.rc('legend', fontsize=12)\n",
    "    plt.rc('xtick', labelsize=10)\n",
    "    plt.rc('ytick', labelsize=10)\n",
    "    return plt"
   ]
  }
 ],
 "metadata": {
  "kernelspec": {
   "display_name": "Python 3 (ipykernel)",
   "language": "python",
   "name": "python3"
  },
  "language_info": {
   "codemirror_mode": {
    "name": "ipython",
    "version": 3
   },
   "file_extension": ".py",
   "mimetype": "text/x-python",
   "name": "python",
   "nbconvert_exporter": "python",
   "pygments_lexer": "ipython3",
   "version": "3.13.5"
  }
 },
 "nbformat": 4,
 "nbformat_minor": 5
}
