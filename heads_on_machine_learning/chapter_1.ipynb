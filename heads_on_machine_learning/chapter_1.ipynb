{
 "cells": [
  {
   "cell_type": "code",
   "execution_count": 1,
   "id": "ff25eb0e-7bc1-49c7-9504-33e55f04ba0b",
   "metadata": {},
   "outputs": [],
   "source": [
    "#pip install import-ipynb"
   ]
  },
  {
   "cell_type": "code",
   "execution_count": 8,
   "id": "22745947-155d-4606-becd-0dd7b6925b57",
   "metadata": {},
   "outputs": [],
   "source": [
    "\n",
    "from ipynb.fs.full.util import *\n",
    "import matplotlib.pyplot as plt\n",
    "import numpy as np\n",
    "import pandas as pd"
   ]
  },
  {
   "cell_type": "code",
   "execution_count": 5,
   "id": "43b89f69-1fb2-467c-a717-d05853946996",
   "metadata": {},
   "outputs": [],
   "source": [
    "plt = basic_plot_structure(plt)"
   ]
  },
  {
   "cell_type": "code",
   "execution_count": 7,
   "id": "8765ed0c-628b-4727-a3ae-adf50d0f0811",
   "metadata": {},
   "outputs": [],
   "source": [
    "np.random.seed(42) "
   ]
  },
  {
   "cell_type": "code",
   "execution_count": 9,
   "id": "7672866e-0b62-4270-8efe-33f93a3a4882",
   "metadata": {},
   "outputs": [],
   "source": [
    "data_root = \"https://github.com/ageron/data/raw/main/\"\n",
    "dataset_life_satisfaction= pd.read_csv(data_root + \"lifesat/lifesat.csv\")"
   ]
  },
  {
   "cell_type": "code",
   "execution_count": 11,
   "id": "b43306ad-0995-4b59-81e4-5313e3f18fce",
   "metadata": {},
   "outputs": [
    {
     "data": {
      "text/html": [
       "<div>\n",
       "<style scoped>\n",
       "    .dataframe tbody tr th:only-of-type {\n",
       "        vertical-align: middle;\n",
       "    }\n",
       "\n",
       "    .dataframe tbody tr th {\n",
       "        vertical-align: top;\n",
       "    }\n",
       "\n",
       "    .dataframe thead th {\n",
       "        text-align: right;\n",
       "    }\n",
       "</style>\n",
       "<table border=\"1\" class=\"dataframe\">\n",
       "  <thead>\n",
       "    <tr style=\"text-align: right;\">\n",
       "      <th></th>\n",
       "      <th>Country</th>\n",
       "      <th>GDP per capita (USD)</th>\n",
       "      <th>Life satisfaction</th>\n",
       "    </tr>\n",
       "  </thead>\n",
       "  <tbody>\n",
       "    <tr>\n",
       "      <th>0</th>\n",
       "      <td>Russia</td>\n",
       "      <td>26456.387938</td>\n",
       "      <td>5.8</td>\n",
       "    </tr>\n",
       "    <tr>\n",
       "      <th>1</th>\n",
       "      <td>Greece</td>\n",
       "      <td>27287.083401</td>\n",
       "      <td>5.4</td>\n",
       "    </tr>\n",
       "    <tr>\n",
       "      <th>2</th>\n",
       "      <td>Turkey</td>\n",
       "      <td>28384.987785</td>\n",
       "      <td>5.5</td>\n",
       "    </tr>\n",
       "    <tr>\n",
       "      <th>3</th>\n",
       "      <td>Latvia</td>\n",
       "      <td>29932.493910</td>\n",
       "      <td>5.9</td>\n",
       "    </tr>\n",
       "    <tr>\n",
       "      <th>4</th>\n",
       "      <td>Hungary</td>\n",
       "      <td>31007.768407</td>\n",
       "      <td>5.6</td>\n",
       "    </tr>\n",
       "    <tr>\n",
       "      <th>5</th>\n",
       "      <td>Portugal</td>\n",
       "      <td>32181.154537</td>\n",
       "      <td>5.4</td>\n",
       "    </tr>\n",
       "    <tr>\n",
       "      <th>6</th>\n",
       "      <td>Poland</td>\n",
       "      <td>32238.157259</td>\n",
       "      <td>6.1</td>\n",
       "    </tr>\n",
       "    <tr>\n",
       "      <th>7</th>\n",
       "      <td>Estonia</td>\n",
       "      <td>35638.421351</td>\n",
       "      <td>5.7</td>\n",
       "    </tr>\n",
       "    <tr>\n",
       "      <th>8</th>\n",
       "      <td>Spain</td>\n",
       "      <td>36215.447591</td>\n",
       "      <td>6.3</td>\n",
       "    </tr>\n",
       "    <tr>\n",
       "      <th>9</th>\n",
       "      <td>Slovenia</td>\n",
       "      <td>36547.738956</td>\n",
       "      <td>5.9</td>\n",
       "    </tr>\n",
       "  </tbody>\n",
       "</table>\n",
       "</div>"
      ],
      "text/plain": [
       "    Country  GDP per capita (USD)  Life satisfaction\n",
       "0    Russia          26456.387938                5.8\n",
       "1    Greece          27287.083401                5.4\n",
       "2    Turkey          28384.987785                5.5\n",
       "3    Latvia          29932.493910                5.9\n",
       "4   Hungary          31007.768407                5.6\n",
       "5  Portugal          32181.154537                5.4\n",
       "6    Poland          32238.157259                6.1\n",
       "7   Estonia          35638.421351                5.7\n",
       "8     Spain          36215.447591                6.3\n",
       "9  Slovenia          36547.738956                5.9"
      ]
     },
     "execution_count": 11,
     "metadata": {},
     "output_type": "execute_result"
    }
   ],
   "source": [
    "dataset_life_satisfaction.head(10)"
   ]
  },
  {
   "cell_type": "code",
   "execution_count": 18,
   "id": "c8fb9d76-9874-430e-a554-999bcf19caee",
   "metadata": {},
   "outputs": [],
   "source": [
    "X = dataset_life_satisfaction[\"GDP per capita (USD)\"].values\n",
    "y = dataset_life_satisfaction[\"Life satisfaction\"].values"
   ]
  },
  {
   "cell_type": "code",
   "execution_count": 17,
   "id": "0ed65878-d82e-458a-855e-74b154e62ac3",
   "metadata": {},
   "outputs": [
    {
     "data": {
      "text/plain": [
       "0     26456.387938\n",
       "1     27287.083401\n",
       "2     28384.987785\n",
       "3     29932.493910\n",
       "4     31007.768407\n",
       "5     32181.154537\n",
       "6     32238.157259\n",
       "7     35638.421351\n",
       "8     36215.447591\n",
       "9     36547.738956\n",
       "10    36732.034744\n",
       "11    38341.307570\n",
       "12    38992.148381\n",
       "13    41627.129269\n",
       "14    42025.617373\n",
       "15    42404.393738\n",
       "16    45856.625626\n",
       "17    47260.800458\n",
       "18    48210.033111\n",
       "19    48697.837028\n",
       "20    50683.323510\n",
       "21    50922.358023\n",
       "22    51935.603862\n",
       "23    52279.728851\n",
       "24    54209.563836\n",
       "25    55938.212809\n",
       "26    60235.728492\n",
       "Name: GDP per capita (USD), dtype: float64"
      ]
     },
     "execution_count": 17,
     "metadata": {},
     "output_type": "execute_result"
    }
   ],
   "source": [
    "X"
   ]
  },
  {
   "cell_type": "code",
   "execution_count": null,
   "id": "48472b79-2940-4d38-8f74-83ee0b81fed2",
   "metadata": {},
   "outputs": [],
   "source": []
  }
 ],
 "metadata": {
  "kernelspec": {
   "display_name": "Python 3 (ipykernel)",
   "language": "python",
   "name": "python3"
  },
  "language_info": {
   "codemirror_mode": {
    "name": "ipython",
    "version": 3
   },
   "file_extension": ".py",
   "mimetype": "text/x-python",
   "name": "python",
   "nbconvert_exporter": "python",
   "pygments_lexer": "ipython3",
   "version": "3.13.5"
  }
 },
 "nbformat": 4,
 "nbformat_minor": 5
}
